{
 "cells": [
  {
   "cell_type": "markdown",
   "id": "23a4a01a",
   "metadata": {},
   "source": [
    "# PART B(Simmons data Analysis)"
   ]
  },
  {
   "cell_type": "code",
   "execution_count": 1,
   "id": "008bf75f",
   "metadata": {},
   "outputs": [
    {
     "name": "stdout",
     "output_type": "stream",
     "text": [
      "Libraries imported successfull!\n"
     ]
    }
   ],
   "source": [
    "#Imports the Necessary libraries\n",
    "import pandas as pd\n",
    "from sklearn.linear_model import LogisticRegression\n",
    "import numpy as np\n",
    "print(\"Libraries imported successfully!\")"
   ]
  },
  {
   "cell_type": "code",
   "execution_count": 2,
   "id": "a68ee77f",
   "metadata": {},
   "outputs": [],
   "source": [
    "# Load the dataset\n",
    "file_path = \"C:\\\\Users\\\\n\\\\Downloads\\\\Simmons-data-raw.xls\"\n",
    "data = pd.read_excel(file_path)"
   ]
  },
  {
   "cell_type": "code",
   "execution_count": 3,
   "id": "95e89806",
   "metadata": {},
   "outputs": [
    {
     "data": {
      "text/html": [
       "<div>\n",
       "<style scoped>\n",
       "    .dataframe tbody tr th:only-of-type {\n",
       "        vertical-align: middle;\n",
       "    }\n",
       "\n",
       "    .dataframe tbody tr th {\n",
       "        vertical-align: top;\n",
       "    }\n",
       "\n",
       "    .dataframe thead th {\n",
       "        text-align: right;\n",
       "    }\n",
       "</style>\n",
       "<table border=\"1\" class=\"dataframe\">\n",
       "  <thead>\n",
       "    <tr style=\"text-align: right;\">\n",
       "      <th></th>\n",
       "      <th>Simmons-data-raw</th>\n",
       "      <th>Unnamed: 1</th>\n",
       "      <th>Unnamed: 2</th>\n",
       "      <th>Unnamed: 3</th>\n",
       "    </tr>\n",
       "  </thead>\n",
       "  <tbody>\n",
       "    <tr>\n",
       "      <th>0</th>\n",
       "      <td>Customer</td>\n",
       "      <td>Spending(000)</td>\n",
       "      <td>Card</td>\n",
       "      <td>Coupon-Usage-Indicator</td>\n",
       "    </tr>\n",
       "    <tr>\n",
       "      <th>1</th>\n",
       "      <td>1</td>\n",
       "      <td>2.291</td>\n",
       "      <td>1</td>\n",
       "      <td>0</td>\n",
       "    </tr>\n",
       "    <tr>\n",
       "      <th>2</th>\n",
       "      <td>2</td>\n",
       "      <td>3.215</td>\n",
       "      <td>1</td>\n",
       "      <td>0</td>\n",
       "    </tr>\n",
       "    <tr>\n",
       "      <th>3</th>\n",
       "      <td>3</td>\n",
       "      <td>2.135</td>\n",
       "      <td>1</td>\n",
       "      <td>0</td>\n",
       "    </tr>\n",
       "    <tr>\n",
       "      <th>4</th>\n",
       "      <td>4</td>\n",
       "      <td>3.924</td>\n",
       "      <td>0</td>\n",
       "      <td>0</td>\n",
       "    </tr>\n",
       "  </tbody>\n",
       "</table>\n",
       "</div>"
      ],
      "text/plain": [
       "  Simmons-data-raw     Unnamed: 1 Unnamed: 2              Unnamed: 3\n",
       "0         Customer  Spending(000)       Card  Coupon-Usage-Indicator\n",
       "1                1          2.291          1                       0\n",
       "2                2          3.215          1                       0\n",
       "3                3          2.135          1                       0\n",
       "4                4          3.924          0                       0"
      ]
     },
     "execution_count": 3,
     "metadata": {},
     "output_type": "execute_result"
    }
   ],
   "source": [
    "data.head()"
   ]
  },
  {
   "cell_type": "code",
   "execution_count": 4,
   "id": "fbc2dc6f",
   "metadata": {},
   "outputs": [
    {
     "data": {
      "text/html": [
       "<div>\n",
       "<style scoped>\n",
       "    .dataframe tbody tr th:only-of-type {\n",
       "        vertical-align: middle;\n",
       "    }\n",
       "\n",
       "    .dataframe tbody tr th {\n",
       "        vertical-align: top;\n",
       "    }\n",
       "\n",
       "    .dataframe thead th {\n",
       "        text-align: right;\n",
       "    }\n",
       "</style>\n",
       "<table border=\"1\" class=\"dataframe\">\n",
       "  <thead>\n",
       "    <tr style=\"text-align: right;\">\n",
       "      <th></th>\n",
       "      <th>Simmons-data-raw</th>\n",
       "      <th>Unnamed: 1</th>\n",
       "      <th>Unnamed: 2</th>\n",
       "      <th>Unnamed: 3</th>\n",
       "    </tr>\n",
       "  </thead>\n",
       "  <tbody>\n",
       "    <tr>\n",
       "      <th>96</th>\n",
       "      <td>96</td>\n",
       "      <td>3.318</td>\n",
       "      <td>0</td>\n",
       "      <td>0</td>\n",
       "    </tr>\n",
       "    <tr>\n",
       "      <th>97</th>\n",
       "      <td>97</td>\n",
       "      <td>2.421</td>\n",
       "      <td>1</td>\n",
       "      <td>0</td>\n",
       "    </tr>\n",
       "    <tr>\n",
       "      <th>98</th>\n",
       "      <td>98</td>\n",
       "      <td>6.073</td>\n",
       "      <td>0</td>\n",
       "      <td>0</td>\n",
       "    </tr>\n",
       "    <tr>\n",
       "      <th>99</th>\n",
       "      <td>99</td>\n",
       "      <td>2.63</td>\n",
       "      <td>1</td>\n",
       "      <td>0</td>\n",
       "    </tr>\n",
       "    <tr>\n",
       "      <th>100</th>\n",
       "      <td>100</td>\n",
       "      <td>3.411</td>\n",
       "      <td>0</td>\n",
       "      <td>1</td>\n",
       "    </tr>\n",
       "  </tbody>\n",
       "</table>\n",
       "</div>"
      ],
      "text/plain": [
       "    Simmons-data-raw Unnamed: 1 Unnamed: 2 Unnamed: 3\n",
       "96                96      3.318          0          0\n",
       "97                97      2.421          1          0\n",
       "98                98      6.073          0          0\n",
       "99                99       2.63          1          0\n",
       "100              100      3.411          0          1"
      ]
     },
     "execution_count": 4,
     "metadata": {},
     "output_type": "execute_result"
    }
   ],
   "source": [
    "data.tail()"
   ]
  },
  {
   "cell_type": "code",
   "execution_count": 6,
   "id": "b14b8786",
   "metadata": {},
   "outputs": [],
   "source": [
    "# Split the data into predictors (X1 and X2) and the target variable (Y)\n",
    "data=pd.read_excel(\"C:\\\\Users\\\\n\\\\Downloads\\\\Simmons-data-raw(1).xls\")\n",
    "X = data[['Spending(000)', 'Card']]\n",
    "Y = data['Coupon-Usage-Indicator']\n"
   ]
  },
  {
   "cell_type": "code",
   "execution_count": 8,
   "id": "6954c2b6",
   "metadata": {},
   "outputs": [
    {
     "name": "stdout",
     "output_type": "stream",
     "text": [
      "Build Successful!\n"
     ]
    }
   ],
   "source": [
    "# Build a logistic regression model\n",
    "logistic_model = LogisticRegression()\n",
    "logistic_model.fit(X, Y)\n",
    "print('Build Successful!')"
   ]
  },
  {
   "cell_type": "markdown",
   "id": "6671cada",
   "metadata": {},
   "source": [
    "# Coefficients of the logistic regression model"
   ]
  },
  {
   "cell_type": "code",
   "execution_count": 12,
   "id": "dd473a57",
   "metadata": {},
   "outputs": [],
   "source": [
    "# PartB-1: Coefficients of the logistic regression model\n",
    "beta0 = logistic_model.intercept_[0]\n",
    "beta1, beta2 = logistic_model.coef_[0]"
   ]
  },
  {
   "cell_type": "code",
   "execution_count": 14,
   "id": "aef389f8",
   "metadata": {},
   "outputs": [
    {
     "name": "stderr",
     "output_type": "stream",
     "text": [
      "C:\\Users\\n\\anaconda3\\lib\\site-packages\\sklearn\\base.py:450: UserWarning: X does not have valid feature names, but LogisticRegression was fitted with feature names\n",
      "  warnings.warn(\n",
      "C:\\Users\\n\\anaconda3\\lib\\site-packages\\sklearn\\base.py:450: UserWarning: X does not have valid feature names, but LogisticRegression was fitted with feature names\n",
      "  warnings.warn(\n"
     ]
    }
   ],
   "source": [
    "# PartB-2: Probability of response for Jack and Jill\n",
    "# Jack: X1 = 2, X2 = 1\n",
    "# Jill: X1 = 4, X2 = 0\n",
    "jack_data = np.array([[2, 1]])\n",
    "jill_data = np.array([[4, 0]])\n",
    "jack_probability = logistic_model.predict_proba(jack_data)[:, 1]\n",
    "jill_probability = logistic_model.predict_proba(jill_data)[:, 1]\n"
   ]
  },
  {
   "cell_type": "markdown",
   "id": "45c4655a",
   "metadata": {},
   "source": [
    "# Choosing the cutoff probability"
   ]
  },
  {
   "cell_type": "code",
   "execution_count": 16,
   "id": "58e34abf",
   "metadata": {},
   "outputs": [],
   "source": [
    "# PartB-3: Choosing the cutoff probability\n",
    "# You can evaluate different cutoff probabilities using a confusion matrix\n",
    "# and choose the one that best suits your business needs.\n",
    "\n",
    "# For example, you can set a cutoff probability of 0.5, where probabilities >= 0.5 are classified as using the coupon.\n",
    "cutoff_probability = 0.5"
   ]
  },
  {
   "cell_type": "markdown",
   "id": "26c30a7b",
   "metadata": {},
   "source": [
    "# RESULTS"
   ]
  },
  {
   "cell_type": "code",
   "execution_count": 17,
   "id": "567bb6da",
   "metadata": {},
   "outputs": [
    {
     "name": "stdout",
     "output_type": "stream",
     "text": [
      "LR coefficients Value\n",
      "BETA0 (or constant term): -2.006720615442227\n",
      "BETA1 (coeff. For X1): 0.32989442356674026\n",
      "BETA2 (coeff. For X2): 0.9178862828888503\n",
      "Probability of Response\n",
      "Jack: 0.3943542838553842\n",
      "Jill: 0.3346689457446288\n",
      "Jack is more likely to respond because he has a higher probability.\n"
     ]
    }
   ],
   "source": [
    "# Print the results\n",
    "print(\"LR coefficients Value\")\n",
    "print(f\"BETA0 (or constant term): {beta0}\")\n",
    "print(f\"BETA1 (coeff. For X1): {beta1}\")\n",
    "print(f\"BETA2 (coeff. For X2): {beta2}\")\n",
    "\n",
    "print(\"Probability of Response\")\n",
    "print(f\"Jack: {jack_probability[0]}\")\n",
    "print(f\"Jill: {jill_probability[0]}\")\n",
    "\n",
    "if jack_probability > jill_probability:\n",
    "    print(\"Jack is more likely to respond because he has a higher probability.\")\n",
    "else:\n",
    "    print(\"Jill is more likely to respond because she has a higher probability.\")\n"
   ]
  },
  {
   "cell_type": "code",
   "execution_count": null,
   "id": "51dc5e27",
   "metadata": {},
   "outputs": [],
   "source": [
    "#THE END"
   ]
  }
 ],
 "metadata": {
  "kernelspec": {
   "display_name": "Python 3 (ipykernel)",
   "language": "python",
   "name": "python3"
  },
  "language_info": {
   "codemirror_mode": {
    "name": "ipython",
    "version": 3
   },
   "file_extension": ".py",
   "mimetype": "text/x-python",
   "name": "python",
   "nbconvert_exporter": "python",
   "pygments_lexer": "ipython3",
   "version": "3.9.12"
  }
 },
 "nbformat": 4,
 "nbformat_minor": 5
}
